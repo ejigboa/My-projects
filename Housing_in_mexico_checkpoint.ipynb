{
  "cells": [
    {
      "cell_type": "markdown",
      "metadata": {
        "id": "view-in-github",
        "colab_type": "text"
      },
      "source": [
        "<a href=\"https://colab.research.google.com/github/ejigboa/My-projects/blob/main/Housing_in_mexico_checkpoint.ipynb\" target=\"_parent\"><img src=\"https://colab.research.google.com/assets/colab-badge.svg\" alt=\"Open In Colab\"/></a>"
      ]
    },
    {
      "cell_type": "code",
      "execution_count": null,
      "id": "472519dd",
      "metadata": {
        "id": "472519dd"
      },
      "outputs": [],
      "source": [
        "import numpy as  np\n",
        "import scipy as sp\n",
        "import pandas as pd"
      ]
    },
    {
      "cell_type": "code",
      "execution_count": null,
      "id": "02847815",
      "metadata": {
        "id": "02847815",
        "outputId": "e050df75-00fd-4433-b5b8-26f9e7d50194"
      },
      "outputs": [
        {
          "data": {
            "text/html": [
              "<div>\n",
              "<style scoped>\n",
              "    .dataframe tbody tr th:only-of-type {\n",
              "        vertical-align: middle;\n",
              "    }\n",
              "\n",
              "    .dataframe tbody tr th {\n",
              "        vertical-align: top;\n",
              "    }\n",
              "\n",
              "    .dataframe thead th {\n",
              "        text-align: right;\n",
              "    }\n",
              "</style>\n",
              "<table border=\"1\" class=\"dataframe\">\n",
              "  <thead>\n",
              "    <tr style=\"text-align: right;\">\n",
              "      <th></th>\n",
              "      <th>prices</th>\n",
              "      <th>square mrter</th>\n",
              "      <th>no of rooms</th>\n",
              "    </tr>\n",
              "  </thead>\n",
              "  <tbody>\n",
              "    <tr>\n",
              "      <th>0</th>\n",
              "      <td>15000</td>\n",
              "      <td>130</td>\n",
              "      <td>3.0</td>\n",
              "    </tr>\n",
              "    <tr>\n",
              "      <th>1</th>\n",
              "      <td>12500</td>\n",
              "      <td>112</td>\n",
              "      <td>2.0</td>\n",
              "    </tr>\n",
              "    <tr>\n",
              "      <th>2</th>\n",
              "      <td>18100</td>\n",
              "      <td>159</td>\n",
              "      <td>1.0</td>\n",
              "    </tr>\n",
              "    <tr>\n",
              "      <th>3</th>\n",
              "      <td>28932</td>\n",
              "      <td>229</td>\n",
              "      <td>2.0</td>\n",
              "    </tr>\n",
              "    <tr>\n",
              "      <th>4</th>\n",
              "      <td>9000</td>\n",
              "      <td>98</td>\n",
              "      <td>4.0</td>\n",
              "    </tr>\n",
              "  </tbody>\n",
              "</table>\n",
              "</div>"
            ],
            "text/plain": [
              "   prices  square mrter  no of rooms\n",
              "0   15000           130          3.0\n",
              "1   12500           112          2.0\n",
              "2   18100           159          1.0\n",
              "3   28932           229          2.0\n",
              "4    9000            98          4.0"
            ]
          },
          "execution_count": 126,
          "metadata": {},
          "output_type": "execute_result"
        }
      ],
      "source": [
        "houses_data = pd.DataFrame({'prices':[15000,12500,18100,28932,9000], 'square mrter': [130,112,159,229,98], \n",
        "                      'no of rooms': [3.0,2.0, 1.0,2.0,4.0]})\n",
        "houses_data"
      ]
    },
    {
      "cell_type": "code",
      "execution_count": null,
      "id": "ff4c9d17",
      "metadata": {
        "id": "ff4c9d17",
        "outputId": "aa5f58dc-26f8-4486-e22f-925a19946a20"
      },
      "outputs": [
        {
          "data": {
            "text/plain": [
              "130"
            ]
          },
          "execution_count": 121,
          "metadata": {},
          "output_type": "execute_result"
        }
      ],
      "source": [
        "houses_data.iat[0,1]"
      ]
    },
    {
      "cell_type": "code",
      "execution_count": null,
      "id": "957797a7",
      "metadata": {
        "id": "957797a7",
        "outputId": "9b41ac74-7dd4-4914-b1da-cdabe446f5c0"
      },
      "outputs": [
        {
          "data": {
            "text/plain": [
              "18100"
            ]
          },
          "execution_count": 125,
          "metadata": {},
          "output_type": "execute_result"
        }
      ],
      "source": [
        "houses_data.at[2,'prices']"
      ]
    },
    {
      "cell_type": "markdown",
      "id": "8005af27",
      "metadata": {
        "id": "8005af27"
      },
      "source": [
        "To calculate the price per square meter for each house."
      ]
    },
    {
      "cell_type": "code",
      "execution_count": null,
      "id": "e9c35345",
      "metadata": {
        "id": "e9c35345",
        "outputId": "e1ec7c94-5dc1-4c15-8666-a2b8d8f84299"
      },
      "outputs": [
        {
          "data": {
            "text/html": [
              "<div>\n",
              "<style scoped>\n",
              "    .dataframe tbody tr th:only-of-type {\n",
              "        vertical-align: middle;\n",
              "    }\n",
              "\n",
              "    .dataframe tbody tr th {\n",
              "        vertical-align: top;\n",
              "    }\n",
              "\n",
              "    .dataframe thead th {\n",
              "        text-align: right;\n",
              "    }\n",
              "</style>\n",
              "<table border=\"1\" class=\"dataframe\">\n",
              "  <thead>\n",
              "    <tr style=\"text-align: right;\">\n",
              "      <th></th>\n",
              "      <th>prices</th>\n",
              "      <th>square mrter</th>\n",
              "      <th>no of rooms</th>\n",
              "      <th>Price/meters</th>\n",
              "    </tr>\n",
              "  </thead>\n",
              "  <tbody>\n",
              "    <tr>\n",
              "      <th>0</th>\n",
              "      <td>15000</td>\n",
              "      <td>130</td>\n",
              "      <td>3.0</td>\n",
              "      <td>115.384615</td>\n",
              "    </tr>\n",
              "    <tr>\n",
              "      <th>1</th>\n",
              "      <td>12500</td>\n",
              "      <td>112</td>\n",
              "      <td>2.0</td>\n",
              "      <td>111.607143</td>\n",
              "    </tr>\n",
              "    <tr>\n",
              "      <th>2</th>\n",
              "      <td>18100</td>\n",
              "      <td>159</td>\n",
              "      <td>1.0</td>\n",
              "      <td>113.836478</td>\n",
              "    </tr>\n",
              "    <tr>\n",
              "      <th>3</th>\n",
              "      <td>28932</td>\n",
              "      <td>229</td>\n",
              "      <td>2.0</td>\n",
              "      <td>126.340611</td>\n",
              "    </tr>\n",
              "    <tr>\n",
              "      <th>4</th>\n",
              "      <td>9000</td>\n",
              "      <td>98</td>\n",
              "      <td>4.0</td>\n",
              "      <td>91.836735</td>\n",
              "    </tr>\n",
              "  </tbody>\n",
              "</table>\n",
              "</div>"
            ],
            "text/plain": [
              "   prices  square mrter  no of rooms  Price/meters\n",
              "0   15000           130          3.0    115.384615\n",
              "1   12500           112          2.0    111.607143\n",
              "2   18100           159          1.0    113.836478\n",
              "3   28932           229          2.0    126.340611\n",
              "4    9000            98          4.0     91.836735"
            ]
          },
          "execution_count": 137,
          "metadata": {},
          "output_type": "execute_result"
        }
      ],
      "source": [
        "houses_data['Price/meters'] = houses_data['prices']/houses_data['square mrter']\n",
        "houses_data"
      ]
    },
    {
      "cell_type": "code",
      "execution_count": null,
      "id": "c5588272",
      "metadata": {
        "id": "c5588272"
      },
      "outputs": [],
      "source": [
        "###del houses_data['Price per meters'] #delete a cell\n",
        "##houses_data"
      ]
    },
    {
      "cell_type": "code",
      "execution_count": null,
      "id": "57bcff80",
      "metadata": {
        "id": "57bcff80"
      },
      "outputs": [],
      "source": []
    },
    {
      "cell_type": "code",
      "execution_count": null,
      "id": "3897324a",
      "metadata": {
        "id": "3897324a",
        "outputId": "32a1dcd8-0960-4b86-9cf0-e2bf290f3e5f"
      },
      "outputs": [
        {
          "data": {
            "text/plain": [
              "[[15000, 130, 3.0],\n",
              " [12500, 112, 2.0],\n",
              " [18100, 159, 1.0],\n",
              " [28932, 229, 2.0],\n",
              " [9000, 98, 4.0]]"
            ]
          },
          "execution_count": 219,
          "metadata": {},
          "output_type": "execute_result"
        }
      ],
      "source": [
        "houses_nested_list = [\n",
        "    [15000, 130, 3.0],\n",
        "    [12500, 112, 2.0],\n",
        "    [18100, 159, 1.0],\n",
        "    [28932, 229, 2.0],\n",
        "    [9000, 98, 4.0]]\n",
        "houses_nested_list"
      ]
    },
    {
      "cell_type": "code",
      "execution_count": null,
      "id": "ad2c6011",
      "metadata": {
        "id": "ad2c6011",
        "outputId": "e7d7a730-91f9-4cd8-b184-24843db8c241"
      },
      "outputs": [
        {
          "data": {
            "text/plain": [
              "[15000, 130, 3.0]"
            ]
          },
          "execution_count": 220,
          "metadata": {},
          "output_type": "execute_result"
        }
      ],
      "source": [
        "house_0_list = [15000, 130, 3.0]\n",
        "house_0_list"
      ]
    },
    {
      "cell_type": "markdown",
      "id": "92c3f677",
      "metadata": {
        "id": "92c3f677"
      },
      "source": [
        "calculate the price per square meter for house_0"
      ]
    },
    {
      "cell_type": "code",
      "execution_count": null,
      "id": "90a1438a",
      "metadata": {
        "id": "90a1438a",
        "outputId": "dc1334dd-83bd-46d4-c520-152dad39a62b"
      },
      "outputs": [
        {
          "data": {
            "text/plain": [
              "115.38461538461539"
            ]
          },
          "execution_count": 221,
          "metadata": {},
          "output_type": "execute_result"
        }
      ],
      "source": [
        "house_0_price_m2 = house_0_list[0]/house_0_list[1]\n",
        "house_0_price_m2"
      ]
    },
    {
      "cell_type": "markdown",
      "id": "1f489a6f",
      "metadata": {
        "id": "1f489a6f"
      },
      "source": [
        "add the price per square meter to the end of the end of house_0"
      ]
    },
    {
      "cell_type": "code",
      "execution_count": null,
      "id": "5bbb354b",
      "metadata": {
        "id": "5bbb354b",
        "outputId": "48eb602c-52f6-4730-ceaa-fac3552ce774"
      },
      "outputs": [
        {
          "data": {
            "text/plain": [
              "[15000, 130, 3.0, 115.38461538461539]"
            ]
          },
          "execution_count": 222,
          "metadata": {},
          "output_type": "execute_result"
        }
      ],
      "source": [
        "house_0_list.append(house_0_price_m2)\n",
        "house_0_list"
      ]
    },
    {
      "cell_type": "code",
      "execution_count": null,
      "id": "65740216",
      "metadata": {
        "id": "65740216"
      },
      "outputs": [],
      "source": [
        "for h in houses_nested_list:\n",
        "    homes = h[0]/h[1]\n",
        "    h.append(homes)"
      ]
    },
    {
      "cell_type": "code",
      "execution_count": null,
      "id": "36a0878f",
      "metadata": {
        "id": "36a0878f",
        "outputId": "6305edad-b91e-41de-ac9e-fe34f580d4d0"
      },
      "outputs": [
        {
          "data": {
            "text/plain": [
              "[[15000, 130, 3.0, 115.38461538461539, 115.38461538461539],\n",
              " [12500, 112, 2.0, 111.60714285714286, 111.60714285714286],\n",
              " [18100, 159, 1.0, 113.83647798742139, 113.83647798742139],\n",
              " [28932, 229, 2.0, 126.3406113537118, 126.3406113537118],\n",
              " [9000, 98, 4.0, 91.83673469387755, 91.83673469387755]]"
            ]
          },
          "execution_count": 247,
          "metadata": {},
          "output_type": "execute_result"
        }
      ],
      "source": [
        "houses_nested_list"
      ]
    },
    {
      "cell_type": "markdown",
      "id": "93106370",
      "metadata": {
        "id": "93106370"
      },
      "source": [
        "## Dictionary"
      ]
    },
    {
      "cell_type": "code",
      "execution_count": null,
      "id": "54e86367",
      "metadata": {
        "id": "54e86367",
        "outputId": "388fb9d2-5b25-4db3-9134-bb7d324ca0d9"
      },
      "outputs": [
        {
          "data": {
            "text/plain": [
              "{'price_aprox_usd': 115910.26, 'surface_covered_in_m2': 128, 'rooms': 4}"
            ]
          },
          "execution_count": 248,
          "metadata": {},
          "output_type": "execute_result"
        }
      ],
      "source": [
        "house_0_dict = {\n",
        "    \"price_aprox_usd\": 115910.26,\n",
        "    \"surface_covered_in_m2\": 128,\n",
        "    \"rooms\": 4,\n",
        "}\n",
        "\n",
        "house_0_dict"
      ]
    },
    {
      "cell_type": "code",
      "execution_count": null,
      "id": "82c88894",
      "metadata": {
        "id": "82c88894",
        "outputId": "f4b257f8-4a0a-433c-80e4-73d753549381"
      },
      "outputs": [
        {
          "data": {
            "text/plain": [
              "{'price_aprox_usd': 115910.26,\n",
              " 'surface_covered_in_m2': 128,\n",
              " 'rooms': 4,\n",
              " 'price_per_m2': 905.54890625}"
            ]
          },
          "execution_count": 249,
          "metadata": {},
          "output_type": "execute_result"
        }
      ],
      "source": [
        "house_0_dict[\"price_per_m2\"] = house_0_dict['price_aprox_usd']/house_0_dict['surface_covered_in_m2']\n",
        "house_0_dict"
      ]
    },
    {
      "cell_type": "code",
      "execution_count": null,
      "id": "5bad7cbd",
      "metadata": {
        "id": "5bad7cbd",
        "outputId": "9114acd4-53fc-4044-bded-027cf43b7267"
      },
      "outputs": [
        {
          "data": {
            "text/plain": [
              "[{'price_aprox_usd': 115910.26, 'surface_covered_in_m2': 128, 'rooms': 4},\n",
              " {'price_aprox_usd': 48718.17, 'surface_covered_in_m2': 210, 'rooms': 3},\n",
              " {'price_aprox_usd': 28977.56, 'surface_covered_in_m2': 58, 'rooms': 2},\n",
              " {'price_aprox_usd': 36932.27, 'surface_covered_in_m2': 79, 'rooms': 3},\n",
              " {'price_aprox_usd': 83903.51, 'surface_covered_in_m2': 111, 'rooms': 3}]"
            ]
          },
          "execution_count": 255,
          "metadata": {},
          "output_type": "execute_result"
        }
      ],
      "source": [
        "houses_rowwise = [\n",
        "    {\n",
        "        \"price_aprox_usd\": 115910.26,\n",
        "        \"surface_covered_in_m2\": 128,\n",
        "        \"rooms\": 4,\n",
        "    },\n",
        "    {\n",
        "        \"price_aprox_usd\": 48718.17,\n",
        "        \"surface_covered_in_m2\": 210,\n",
        "        \"rooms\": 3,\n",
        "    },\n",
        "    {\n",
        "        \"price_aprox_usd\": 28977.56,\n",
        "        \"surface_covered_in_m2\": 58,\n",
        "        \"rooms\": 2,\n",
        "    },\n",
        "    {\n",
        "        \"price_aprox_usd\": 36932.27,\n",
        "        \"surface_covered_in_m2\": 79,\n",
        "        \"rooms\": 3,\n",
        "    },\n",
        "    {\n",
        "        \"price_aprox_usd\": 83903.51,\n",
        "        \"surface_covered_in_m2\": 111,\n",
        "        \"rooms\": 3,\n",
        "    },\n",
        "]\n",
        "\n",
        "houses_rowwise"
      ]
    },
    {
      "cell_type": "code",
      "execution_count": null,
      "id": "a35bc683",
      "metadata": {
        "id": "a35bc683"
      },
      "outputs": [],
      "source": [
        "for observation in houses_rowwise:\n",
        "    observation['price_per_m22'] =  observation['price_aprox_usd']/observation['surface_covered_in_m2']\n",
        "     #/observation['price_aprox_usd']"
      ]
    },
    {
      "cell_type": "code",
      "execution_count": null,
      "id": "c209680c",
      "metadata": {
        "id": "c209680c"
      },
      "outputs": [],
      "source": [
        "##houses_rowwise"
      ]
    },
    {
      "cell_type": "markdown",
      "id": "bf35e254",
      "metadata": {
        "id": "bf35e254"
      },
      "source": [
        "To find the average price in the estate"
      ]
    },
    {
      "cell_type": "code",
      "execution_count": null,
      "id": "1dd1a8a1",
      "metadata": {
        "id": "1dd1a8a1",
        "outputId": "4a4994d8-e979-412d-cafc-355c144815ea"
      },
      "outputs": [
        {
          "name": "stdout",
          "output_type": "stream",
          "text": [
            "The average price of houses in this community is $62888.35399999999\n"
          ]
        }
      ],
      "source": [
        "tsum = []\n",
        "for observation in houses_rowwise:\n",
        "    pcc = (observation['price_aprox_usd'])\n",
        "    tsum.append(pcc)\n",
        "    \n",
        "print (f'The average price of houses in this community is ${np.sum(tsum)/len(tsum)}')"
      ]
    },
    {
      "cell_type": "code",
      "execution_count": null,
      "id": "81f5606d",
      "metadata": {
        "id": "81f5606d"
      },
      "outputs": [],
      "source": []
    }
  ],
  "metadata": {
    "kernelspec": {
      "display_name": "Python 3 (ipykernel)",
      "language": "python",
      "name": "python3"
    },
    "language_info": {
      "codemirror_mode": {
        "name": "ipython",
        "version": 3
      },
      "file_extension": ".py",
      "mimetype": "text/x-python",
      "name": "python",
      "nbconvert_exporter": "python",
      "pygments_lexer": "ipython3",
      "version": "3.9.12"
    },
    "colab": {
      "provenance": [],
      "include_colab_link": true
    }
  },
  "nbformat": 4,
  "nbformat_minor": 5
}