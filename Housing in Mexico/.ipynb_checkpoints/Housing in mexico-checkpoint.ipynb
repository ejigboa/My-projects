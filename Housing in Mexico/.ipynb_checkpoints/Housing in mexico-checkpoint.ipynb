{
 "cells": [
  {
   "cell_type": "code",
   "execution_count": 6,
   "id": "472519dd",
   "metadata": {},
   "outputs": [],
   "source": [
    "import numpy as  np\n",
    "import scipy as sp"
   ]
  },
  {
   "cell_type": "code",
   "execution_count": 7,
   "id": "8a1ce566",
   "metadata": {},
   "outputs": [],
   "source": [
    "houses_nested_list = [\n",
    "    [15000, 180, 3.0],\n",
    "    [12500, 172, 2.0],\n",
    "    [18100, 69, 1.0],\n",
    "    [28932, 99, 2.0],\n",
    "    [9000, 131, 4.0]]"
   ]
  },
  {
   "cell_type": "code",
   "execution_count": 9,
   "id": "34843329",
   "metadata": {},
   "outputs": [
    {
     "ename": "TypeError",
     "evalue": "list indices must be integers or slices, not list",
     "output_type": "error",
     "traceback": [
      "\u001b[1;31m---------------------------------------------------------------------------\u001b[0m",
      "\u001b[1;31mTypeError\u001b[0m                                 Traceback (most recent call last)",
      "Input \u001b[1;32mIn [9]\u001b[0m, in \u001b[0;36m<cell line: 1>\u001b[1;34m()\u001b[0m\n\u001b[1;32m----> 1\u001b[0m h1 \u001b[38;5;241m=\u001b[39m \u001b[43mhouses_nested_list\u001b[49m\u001b[43m[\u001b[49m\u001b[43mhouse\u001b[49m\u001b[43m]\u001b[49m\n\u001b[0;32m      2\u001b[0m \u001b[38;5;28mprint\u001b[39m (h1)\n",
      "\u001b[1;31mTypeError\u001b[0m: list indices must be integers or slices, not list"
     ]
    }
   ],
   "source": [
    "h1 = houses_nested_list[house]\n",
    "print (h1)"
   ]
  },
  {
   "cell_type": "code",
   "execution_count": 10,
   "id": "43aaaa5b",
   "metadata": {},
   "outputs": [],
   "source": [
    "ssssdddd = 2"
   ]
  },
  {
   "cell_type": "code",
   "execution_count": 2,
   "id": "3897324a",
   "metadata": {},
   "outputs": [],
   "source": [
    "ssss =7"
   ]
  },
  {
   "cell_type": "code",
   "execution_count": null,
   "id": "7e6e427e",
   "metadata": {},
   "outputs": [],
   "source": [
    "for i in "
   ]
  }
 ],
 "metadata": {
  "kernelspec": {
   "display_name": "Python 3 (ipykernel)",
   "language": "python",
   "name": "python3"
  },
  "language_info": {
   "codemirror_mode": {
    "name": "ipython",
    "version": 3
   },
   "file_extension": ".py",
   "mimetype": "text/x-python",
   "name": "python",
   "nbconvert_exporter": "python",
   "pygments_lexer": "ipython3",
   "version": "3.9.12"
  }
 },
 "nbformat": 4,
 "nbformat_minor": 5
}
