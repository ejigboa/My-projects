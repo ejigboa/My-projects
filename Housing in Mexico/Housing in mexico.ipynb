{
 "cells": [
  {
   "cell_type": "code",
   "execution_count": 5,
   "id": "472519dd",
   "metadata": {},
   "outputs": [],
   "source": [
    "import numpy as  np\n",
    "import scipy as sp"
   ]
  },
  {
   "cell_type": "code",
   "execution_count": 12,
   "id": "8a1ce566",
   "metadata": {},
   "outputs": [],
   "source": [
    "houses_nested_list = [\n",
    "    [15000, 180, 3.0],\n",
    "    [12500, 172, 2.0],\n",
    "    [18100, 69, 1.0],\n",
    "    [28932, 99, 2.0],\n",
    "    [9000, 131, 4.0]]"
   ]
  },
  {
   "cell_type": "code",
   "execution_count": 14,
   "id": "34843329",
   "metadata": {},
   "outputs": [
    {
     "name": "stdout",
     "output_type": "stream",
     "text": [
      "[15000, 180, 3.0]\n",
      "[12500, 172, 2.0]\n",
      "[18100, 69, 1.0]\n",
      "[28932, 99, 2.0]\n",
      "[9000, 131, 4.0]\n"
     ]
    }
   ],
   "source": [
    "for house in houses_nested_list:\n",
    "    print (house)"
   ]
  },
  {
   "cell_type": "code",
   "execution_count": 17,
   "id": "43aaaa5b",
   "metadata": {},
   "outputs": [],
   "source": [
    "ssssdddd = 2"
   ]
  },
  {
   "cell_type": "code",
   "execution_count": null,
   "id": "3897324a",
   "metadata": {},
   "outputs": [],
   "source": []
  }
 ],
 "metadata": {
  "kernelspec": {
   "display_name": "Python 3 (ipykernel)",
   "language": "python",
   "name": "python3"
  },
  "language_info": {
   "codemirror_mode": {
    "name": "ipython",
    "version": 3
   },
   "file_extension": ".py",
   "mimetype": "text/x-python",
   "name": "python",
   "nbconvert_exporter": "python",
   "pygments_lexer": "ipython3",
   "version": "3.9.12"
  }
 },
 "nbformat": 4,
 "nbformat_minor": 5
}
