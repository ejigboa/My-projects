{
 "cells": [
  {
   "cell_type": "code",
   "execution_count": 3,
   "id": "e4fcd5d3",
   "metadata": {},
   "outputs": [],
   "source": [
    "import pandas as pd\n",
    "import scipy\n",
    "import numpy as np\n",
    "from numpy import pi\n",
    "from matplotlib.pyplot import *\n",
    "from timeit import default_timer as timer"
   ]
  },
  {
   "cell_type": "markdown",
   "id": "19ac2f9b",
   "metadata": {},
   "source": [
    "$$\n",
    "SOLVING\\>ASSIGNMENT\\>PROBLEMS\\>USING\\>Scipy.optimize.linear\\_sum\\_assignment()\n",
    "$$"
   ]
  },
  {
   "cell_type": "markdown",
   "id": "4a843467",
   "metadata": {},
   "source": [
    "$$\n",
    "\\\n",
    "$$"
   ]
  },
  {
   "cell_type": "markdown",
   "id": "91710447",
   "metadata": {},
   "source": [
    "$$\n",
    "INTRODUCTION\n",
    "$$"
   ]
  },
  {
   "cell_type": "markdown",
   "id": "a5314230",
   "metadata": {},
   "source": [
    "Assignment Problem is a special type of linear programming problem where the objective is to minimise the cost or time of completing a number of jobs by a number of persons.\n",
    "\n",
    "The linear sum assignment problem (LSAP) is one of the most famous problems in linear\n",
    "programming and in combinatorial optimization. Informally speaking, we are given an\n",
    "$n × n$ cost matrix $C = (c_{ij})$ and we want to match each row to a different column in such\n",
    "a way that the sum of the corresponding entries is minimized. In other words, we want to\n",
    "select $n$ elements of $C$ so that there is exactly one element in each row and one in each\n",
    "column and the sum of the corresponding costs is a minimum.\n",
    "\n",
    "The linear sum assignment problem is also known as minimum weight matching in bipartite graphs. A problem instance is described by a matrix C, where each $C[i,j]$ is the cost of matching vertex i of the first partite set (a “worker”) and vertex j of the second set (a “job”). The goal is to find a complete assignment of workers to jobs of minimal cost.\n",
    "\n",
    "Formally, let X be a boolean matrix where $X[i,j]=1$ iff row i is assigned to column j. Then the optimal assignment has cost\n",
    "\n",
    "$$\n",
    "min\\sum_j\\sum_i C_{ij}X_{ij}\n",
    "$$\n",
    "\n",
    "s.t. each row is assignment to at most one column, and each column to at most one row.\n",
    "\n",
    "This function can also solve a generalization of the classic assignment problem where the cost matrix is rectangular. If it has more rows than columns, then not every row needs to be assigned to a column, and vice versa.\n",
    "\n",
    "The method used is the Hungarian algorithm, also known as the Munkres or Kuhn-Munkres algorithm."
   ]
  },
  {
   "cell_type": "markdown",
   "id": "1c4ebbc2",
   "metadata": {},
   "source": [
    "$$\n",
    "\\\n",
    "$$"
   ]
  },
  {
   "cell_type": "markdown",
   "id": "305b8600",
   "metadata": {},
   "source": [
    "$$\n",
    "CASE\\>STUDY\n",
    "$$"
   ]
  },
  {
   "cell_type": "markdown",
   "id": "39543582",
   "metadata": {},
   "source": [
    "\n",
    "A company, AYO FARMS has 4 machines available for producing bottled water, bottled tea, Juice and milk. Any machine can be assigned\n",
    "to any task, and each task requires processing by one machine.\n",
    "\n",
    "Over the years, the company hasn't been making significant profit due to a high cost of production. Now the company wants to minimize the total cost of producing all its four products in other to maximize profit. \n",
    "\n",
    "The monthly cost of producing each product by each machine is stated below.\n",
    "\n",
    "NOTE: Machine 3 doesn't have enough features to produce bottled water."
   ]
  },
  {
   "cell_type": "code",
   "execution_count": 4,
   "id": "bbdf8979",
   "metadata": {},
   "outputs": [
    {
     "data": {
      "text/html": [
       "<div>\n",
       "<style scoped>\n",
       "    .dataframe tbody tr th:only-of-type {\n",
       "        vertical-align: middle;\n",
       "    }\n",
       "\n",
       "    .dataframe tbody tr th {\n",
       "        vertical-align: top;\n",
       "    }\n",
       "\n",
       "    .dataframe thead th {\n",
       "        text-align: right;\n",
       "    }\n",
       "</style>\n",
       "<table border=\"1\" class=\"dataframe\">\n",
       "  <thead>\n",
       "    <tr style=\"text-align: right;\">\n",
       "      <th></th>\n",
       "      <th>Bottled Water ($m)</th>\n",
       "      <th>Bottled Tea ($m)</th>\n",
       "      <th>Juice ($m)</th>\n",
       "      <th>Milk ($m)</th>\n",
       "    </tr>\n",
       "  </thead>\n",
       "  <tbody>\n",
       "    <tr>\n",
       "      <th>Machine 1</th>\n",
       "      <td>4</td>\n",
       "      <td>3</td>\n",
       "      <td>1</td>\n",
       "      <td>6</td>\n",
       "    </tr>\n",
       "    <tr>\n",
       "      <th>Machine 2</th>\n",
       "      <td>8</td>\n",
       "      <td>6</td>\n",
       "      <td>2</td>\n",
       "      <td>7</td>\n",
       "    </tr>\n",
       "    <tr>\n",
       "      <th>Machine 3</th>\n",
       "      <td>0</td>\n",
       "      <td>3</td>\n",
       "      <td>5</td>\n",
       "      <td>2</td>\n",
       "    </tr>\n",
       "    <tr>\n",
       "      <th>Machine 4</th>\n",
       "      <td>3</td>\n",
       "      <td>3</td>\n",
       "      <td>9</td>\n",
       "      <td>6</td>\n",
       "    </tr>\n",
       "  </tbody>\n",
       "</table>\n",
       "</div>"
      ],
      "text/plain": [
       "           Bottled Water ($m)  Bottled Tea ($m)  Juice ($m)  Milk ($m)\n",
       "Machine 1                   4                 3           1          6\n",
       "Machine 2                   8                 6           2          7\n",
       "Machine 3                   0                 3           5          2\n",
       "Machine 4                   3                 3           9          6"
      ]
     },
     "execution_count": 4,
     "metadata": {},
     "output_type": "execute_result"
    }
   ],
   "source": [
    "classes = ['Machine 1', 'Machine 2', 'Machine 3','Machine 4']\n",
    "df = pd.DataFrame({'Bottled Water ($m)':[4,8,0,3],'Bottled Tea ($m)':[3,6,3,3] ,'Juice ($m)':[1,2,5,9],'Milk ($m)':[6,7,2,6]},classes)\n",
    "df"
   ]
  },
  {
   "cell_type": "markdown",
   "id": "af5c2298",
   "metadata": {},
   "source": [
    "There are a number of ways to solve this, but one of the  most effective ways is using Hungarian method. \n",
    "\n",
    "Briefly, I will be taking us through on how to solve this linear sum assignment using hungarian method and the python inbuilt module, scipy.optimize.linear_sum_assignment().  "
   ]
  },
  {
   "cell_type": "markdown",
   "id": "396ddbc9",
   "metadata": {},
   "source": [
    "$$\n",
    "\\\n",
    "$$"
   ]
  },
  {
   "cell_type": "markdown",
   "id": "c8966b5a",
   "metadata": {},
   "source": [
    "$$\n",
    "HUNGARIAN\\> METHOD\n",
    "$$"
   ]
  },
  {
   "cell_type": "markdown",
   "id": "2b06dcc1",
   "metadata": {},
   "source": [
    "Step 1: Find the minimum value of each row and subtract it from other values in the row.\n",
    "\n",
    "Step 2: Find the minimum value of each column and subtract it from other values in the column.\n",
    "\n",
    "Step 3: Find the minimum number $k$, of vertical and horizontal lines needed to cover all the zeros in the matrix.\n",
    "\n",
    "Step 4: If $k \\geq m$, where $m$ is the dimension of the matrix $m x n$, then we’ve reached the allocation point or optimum point. Else,  we proceed to step 5.\n",
    "\n",
    "Step 5: Find the minimum uncovered value, subtract it from other uncovered values and add it to the corner point(intersections of zeros)\n",
    "Repeat step 3 until the optimum point is reached. Then, start the assignments from the row that has a minimum number of zeros.\n",
    "\n",
    "Step 6: Calculate the objective function $𝑍^∗$ with all the allocated decision variables.\n",
    "  \t \t$𝑍^∗ = ∑𝑥_{𝑖𝑗}$ ,     where $𝑥_{𝑖𝑗}=1$ , i is the row number and j is the column number.\n"
   ]
  },
  {
   "cell_type": "markdown",
   "id": "d858dbfd",
   "metadata": {},
   "source": [
    "### Using Hungarian Method to calculate the optimum value"
   ]
  },
  {
   "cell_type": "code",
   "execution_count": 45,
   "id": "16a5e79d",
   "metadata": {},
   "outputs": [],
   "source": [
    "import scipy"
   ]
  },
  {
   "cell_type": "code",
   "execution_count": 46,
   "id": "677b9c25",
   "metadata": {},
   "outputs": [
    {
     "data": {
      "text/plain": [
       "array([[4, 3, 1, 6],\n",
       "       [8, 6, 2, 7],\n",
       "       [0, 3, 5, 2],\n",
       "       [3, 3, 9, 6]])"
      ]
     },
     "execution_count": 46,
     "metadata": {},
     "output_type": "execute_result"
    }
   ],
   "source": [
    "cost_matrix = np.array([[4,3,1,6],[8,6,2,7],[0,3,5,2],[3,3,9,6]])\n",
    "cost_matrix"
   ]
  },
  {
   "cell_type": "markdown",
   "id": "c804c65d",
   "metadata": {},
   "source": [
    "\\begin{equation}\n",
    "cost\\_matrix = \n",
    "\\begin{bmatrix}\n",
    "4 & 3 & 1 & 6\\\\\n",
    "8 & 6 & 2 & 7\\\\\n",
    "0 & 3 & 5 & 2\\\\\n",
    "3 & 3 & 9 & 6\\\\\n",
    "\\end{bmatrix}\n",
    "\\end{equation}\n"
   ]
  },
  {
   "cell_type": "markdown",
   "id": "41220a51",
   "metadata": {},
   "source": [
    "### Step 1. Find the minimum value in each row and subtract from other values in the row.\n"
   ]
  },
  {
   "cell_type": "code",
   "execution_count": 47,
   "id": "99c87c57",
   "metadata": {},
   "outputs": [
    {
     "data": {
      "text/plain": [
       "array([[1],\n",
       "       [2],\n",
       "       [0],\n",
       "       [3]])"
      ]
     },
     "execution_count": 47,
     "metadata": {},
     "output_type": "execute_result"
    }
   ],
   "source": [
    "min_r = np.asarray([(min(cost_matrix[i])) for i in range(len(cost_matrix))])\n",
    "min_R = min_r.reshape(4,1)\n",
    "min_R"
   ]
  },
  {
   "cell_type": "markdown",
   "id": "e3bc2ee1",
   "metadata": {},
   "source": [
    "\\begin{equation}\n",
    "min_R = \n",
    "\\begin{bmatrix}\n",
    "1\\\\\n",
    "2\\\\\n",
    "0\\\\\n",
    "3\\\\\n",
    "\\end{bmatrix}\n",
    "\\end{equation}\n"
   ]
  },
  {
   "cell_type": "code",
   "execution_count": 48,
   "id": "bc3d4f3b",
   "metadata": {},
   "outputs": [
    {
     "data": {
      "text/plain": [
       "array([[3, 2, 0, 5],\n",
       "       [6, 4, 0, 5],\n",
       "       [0, 3, 5, 2],\n",
       "       [0, 0, 6, 3]])"
      ]
     },
     "execution_count": 48,
     "metadata": {},
     "output_type": "execute_result"
    }
   ],
   "source": [
    "cost_mat = cost_matrix-min_R\n",
    "cost_mat"
   ]
  },
  {
   "cell_type": "markdown",
   "id": "9c9074be",
   "metadata": {},
   "source": [
    "\\begin{equation}\n",
    "cost\\_mat = \n",
    "\\begin{pmatrix}\n",
    "4 & 3 & 1 & 6\\\\\n",
    "8 & 6 & 2 & 7\\\\\n",
    "0 & 3 & 5 & 2\\\\\n",
    "3 & 3 & 9 & 6\\\\\n",
    "\\end{pmatrix}\n",
    "-\\begin{pmatrix}\n",
    "1\\\\\n",
    "2\\\\\n",
    "0\\\\\n",
    "3\\\\\n",
    "\\end{pmatrix} \n",
    "\\end{equation}\n",
    "\n",
    "\\begin{equation}\n",
    "cost\\_mat = \n",
    "\\begin{bmatrix}\n",
    "3 & 2 & 0 & 5\\\\\n",
    "6 & 4 & 0 & 5\\\\\n",
    "0 & 3 & 5 & 2\\\\\n",
    "0 & 0 & 6 & 3\\\\\n",
    "\\end{bmatrix}\n",
    "\\end{equation}\n"
   ]
  },
  {
   "cell_type": "markdown",
   "id": "617f5f98",
   "metadata": {},
   "source": [
    "### Step 2. Find the minimum value of each column and subtract it from other values in the column.\n"
   ]
  },
  {
   "cell_type": "code",
   "execution_count": 49,
   "id": "50095a59",
   "metadata": {},
   "outputs": [
    {
     "data": {
      "text/plain": [
       "array([0, 0, 0, 2])"
      ]
     },
     "execution_count": 49,
     "metadata": {},
     "output_type": "execute_result"
    }
   ],
   "source": [
    "A_c = cost_mat.T\n",
    "min_c = np.asarray([(min(A_c[j])) for j in range(4)])\n",
    "min_c"
   ]
  },
  {
   "cell_type": "markdown",
   "id": "8a39dbb7",
   "metadata": {},
   "source": [
    "\\begin{equation}\n",
    "min_C = \n",
    "\\begin{bmatrix}\n",
    "0 & 0 & 0 & 2\n",
    "\\end{bmatrix}\n",
    "\\end{equation}"
   ]
  },
  {
   "cell_type": "code",
   "execution_count": 22,
   "id": "7b20028f",
   "metadata": {},
   "outputs": [
    {
     "data": {
      "text/plain": [
       "array([[3, 2, 0, 3],\n",
       "       [6, 4, 0, 3],\n",
       "       [0, 3, 5, 0],\n",
       "       [0, 0, 6, 1]])"
      ]
     },
     "execution_count": 22,
     "metadata": {},
     "output_type": "execute_result"
    }
   ],
   "source": [
    "cost_mat = cost_mat - min_c\n",
    "cost_mat"
   ]
  },
  {
   "cell_type": "markdown",
   "id": "c4c5d071",
   "metadata": {},
   "source": [
    "\\begin{equation}\n",
    "cost\\_mat = \n",
    "\\begin{bmatrix}\n",
    "3 & 2 & 0 & 3\\\\\n",
    "6 & 4 & 0 & 3\\\\\n",
    "0 & 3 & 5 & 0\\\\\n",
    "0 & 0 & 6 & 1\\\\\n",
    "\\end{bmatrix}\n",
    "\\end{equation}\n"
   ]
  },
  {
   "cell_type": "markdown",
   "id": "53d6f7b6",
   "metadata": {},
   "source": [
    "### Step 3. Find the minimum number k, of vertical and horizontal lines needed to cover all the zeros in the matrix.\n",
    "\n",
    "\n",
    "From the Matrix above, we can denote that the minimum number k, of vertical and horizontal lines needed to cover all the zeros in the matrix is 3."
   ]
  },
  {
   "cell_type": "markdown",
   "id": "729e6991",
   "metadata": {},
   "source": [
    "### Step 4: If $k \\geq m$, where $m$ is the dimension of the matrix $m x n$, then we’ve reached the allocation point or optimum point. Else,  we proceed to step 5.\n"
   ]
  },
  {
   "cell_type": "markdown",
   "id": "320b2985",
   "metadata": {},
   "source": [
    "### Step 5 Find the minimum uncovered value, subtract it from other uncovered values and add it to the corner point(intersections of zeros)\n",
    "\n",
    "\n",
    "Minimum uncovered value ($muval) = 2$"
   ]
  },
  {
   "cell_type": "code",
   "execution_count": 23,
   "id": "ca054693",
   "metadata": {},
   "outputs": [],
   "source": [
    "for m in range(4):\n",
    "    for n in range(4):\n",
    "        if (m==0 or m==1) and (n==0 or n==1):\n",
    "            cost_mat[m][n] = cost_mat[m][n] - 2\n",
    "for q in range(4):\n",
    "    for r in range(4):\n",
    "        if (q==0 or q==1) and (r == 3):\n",
    "            cost_mat[q][r] = cost_mat[q][r] - 2"
   ]
  },
  {
   "cell_type": "code",
   "execution_count": 24,
   "id": "9d26d811",
   "metadata": {},
   "outputs": [],
   "source": [
    "for o in range(4):\n",
    "    for p in range(4):\n",
    "        if (o==2 and p==1):\n",
    "            cost_mat[o][p] = cost_mat[o][p] + 2\n",
    "        elif (o==2 and p==2):\n",
    "            cost_mat[o][p] = cost_mat[o][p] + 2\n",
    "        elif (o==3 and p==2):\n",
    "            cost_mat[o][p] = cost_mat[o][p] + 2\n",
    "        "
   ]
  },
  {
   "cell_type": "code",
   "execution_count": 25,
   "id": "da6ed1e4",
   "metadata": {},
   "outputs": [
    {
     "data": {
      "text/plain": [
       "array([[1, 0, 0, 1],\n",
       "       [4, 2, 0, 1],\n",
       "       [0, 5, 7, 0],\n",
       "       [0, 0, 8, 1]])"
      ]
     },
     "execution_count": 25,
     "metadata": {},
     "output_type": "execute_result"
    }
   ],
   "source": [
    "cost_mat"
   ]
  },
  {
   "cell_type": "markdown",
   "id": "cefad11a",
   "metadata": {},
   "source": [
    "\\begin{equation}\n",
    "cost\\_mat = \n",
    "\\begin{bmatrix}\n",
    "1 & 0 & 0 & 1\\\\\n",
    "4 & 2 & 0 & 1\\\\\n",
    "0 & 5 & 7 & 0\\\\\n",
    "0 & 0 & 8 & 1\\\\\n",
    "\\end{bmatrix}\n",
    "\\end{equation}\n"
   ]
  },
  {
   "cell_type": "markdown",
   "id": "bd03097d",
   "metadata": {},
   "source": [
    "Now $k = 4$ and $m=4$. Since $k = m$, where $m$ is the dimension of the matrix $m x n$, then we’ve reached the allocation point or optimum point. Else,  we proceed to step 5."
   ]
  },
  {
   "cell_type": "code",
   "execution_count": 26,
   "id": "ce142ae4",
   "metadata": {},
   "outputs": [],
   "source": [
    "cal_decision_variables = []\n",
    "for q in range(4):\n",
    "    for r in range(4):\n",
    "        if cost_mat[q][r] == 0:\n",
    "            ds = (q,r)\n",
    "            cal_decision_variables.append(ds)\n",
    "            \n",
    "           \n",
    "calculated_decision_variables = cal_decision_variables[::2]"
   ]
  },
  {
   "cell_type": "markdown",
   "id": "77c0bec0",
   "metadata": {},
   "source": [
    "To calculate the optimum solution (Objective function)"
   ]
  },
  {
   "cell_type": "code",
   "execution_count": 27,
   "id": "7642b14a",
   "metadata": {},
   "outputs": [
    {
     "name": "stdout",
     "output_type": "stream",
     "text": [
      "Using the hungarian method, the objective fuction, which is the optimum solution is 10\n"
     ]
    }
   ],
   "source": [
    "cal_optima = []\n",
    "for cdv in calculated_decision_variables:\n",
    "    optimized = cost_matrix[cdv]\n",
    "    cal_optima.append(cost_matrix[cdv])\n",
    "print (f'Using the hungarian method, the objective fuction, which is the optimum solution is {sum(cal_optima)}')"
   ]
  },
  {
   "cell_type": "code",
   "execution_count": 59,
   "id": "3e6e80ba",
   "metadata": {},
   "outputs": [],
   "source": [
    "# def decision_variable_asgn_prblm(cost_matrix):\n",
    "#    optimized_result = scipy.optimize.linear_sum_assignment(cost_matrix)\n",
    "#    row_ind, col_ind = linear_sum_assignment(cost_matrix)\n",
    "#    decision_variables = cost_matrix[row_ind, col_ind]\n",
    "#    row_ind\n",
    "#    o_rows = []\n",
    "#    o_col = []\n",
    "#   for rs in row_ind:\n",
    "#        o_rows.append(rs)\n",
    "#    for cl in col_ind:\n",
    "#        o_col.append(cl)\n",
    "#        d_v = list(zip(o_rows,o_col))\n",
    "#    return d_v */\n",
    "\n",
    "#def objective_function():\n",
    "#    optima = []\n",
    "#    for i in decision_variable_asgn_prblm(cost_matrix):\n",
    "#        optimized = cost_matrix[i]\n",
    "#        optima.append(cost_matrix[i])\n",
    "#    return sum(optima)"
   ]
  },
  {
   "cell_type": "markdown",
   "id": "199349bc",
   "metadata": {},
   "source": [
    "### B. Using scipy function scipy.optimize.linear_sum_assignment() to calculate the optimum solution."
   ]
  },
  {
   "cell_type": "code",
   "execution_count": 30,
   "id": "cbfa8629",
   "metadata": {},
   "outputs": [],
   "source": [
    "import scipy\n",
    "from scipy.optimize import linear_sum_assignment"
   ]
  },
  {
   "cell_type": "code",
   "execution_count": 31,
   "id": "f2948f51",
   "metadata": {},
   "outputs": [
    {
     "data": {
      "text/plain": [
       "array([[4, 3, 1, 6],\n",
       "       [8, 6, 2, 7],\n",
       "       [0, 3, 5, 2],\n",
       "       [3, 3, 9, 6]])"
      ]
     },
     "execution_count": 31,
     "metadata": {},
     "output_type": "execute_result"
    }
   ],
   "source": [
    "cost_matrix"
   ]
  },
  {
   "cell_type": "markdown",
   "id": "b5ca0466",
   "metadata": {},
   "source": [
    "To solving the assignment problem."
   ]
  },
  {
   "cell_type": "code",
   "execution_count": 32,
   "id": "0c60992f",
   "metadata": {},
   "outputs": [
    {
     "data": {
      "text/plain": [
       "(array([0, 1, 2, 3], dtype=int64), array([1, 2, 3, 0], dtype=int64))"
      ]
     },
     "execution_count": 32,
     "metadata": {},
     "output_type": "execute_result"
    }
   ],
   "source": [
    "linear_sum = scipy.optimize.linear_sum_assignment(cost_matrix)\n",
    "row_ind, col_ind = linear_sum\n",
    "linear_sum"
   ]
  },
  {
   "cell_type": "markdown",
   "id": "777f8f80",
   "metadata": {},
   "source": [
    "To calculate the decision variables."
   ]
  },
  {
   "cell_type": "code",
   "execution_count": 33,
   "id": "c35ef657",
   "metadata": {},
   "outputs": [
    {
     "data": {
      "text/plain": [
       "[(0, 1), (1, 2), (2, 3), (3, 0)]"
      ]
     },
     "execution_count": 33,
     "metadata": {},
     "output_type": "execute_result"
    }
   ],
   "source": [
    "decision_variables = list(zip(row_ind,col_ind))\n",
    "decision_variables"
   ]
  },
  {
   "cell_type": "code",
   "execution_count": 129,
   "id": "2e6a1a27",
   "metadata": {},
   "outputs": [
    {
     "data": {
      "text/plain": [
       "[3, 2, 2, 3]"
      ]
     },
     "execution_count": 129,
     "metadata": {},
     "output_type": "execute_result"
    }
   ],
   "source": [
    "optimum_values = list(cost_matrix[row_ind, col_ind])\n",
    "optimum_values"
   ]
  },
  {
   "cell_type": "code",
   "execution_count": 132,
   "id": "b669f9a6",
   "metadata": {},
   "outputs": [
    {
     "data": {
      "text/html": [
       "<div>\n",
       "<style scoped>\n",
       "    .dataframe tbody tr th:only-of-type {\n",
       "        vertical-align: middle;\n",
       "    }\n",
       "\n",
       "    .dataframe tbody tr th {\n",
       "        vertical-align: top;\n",
       "    }\n",
       "\n",
       "    .dataframe thead th {\n",
       "        text-align: right;\n",
       "    }\n",
       "</style>\n",
       "<table border=\"1\" class=\"dataframe\">\n",
       "  <thead>\n",
       "    <tr style=\"text-align: right;\">\n",
       "      <th></th>\n",
       "      <th>Bottled Water ($m)</th>\n",
       "      <th>Bottled Tea ($m)</th>\n",
       "      <th>Juice ($m)</th>\n",
       "      <th>Milk ($m)</th>\n",
       "    </tr>\n",
       "  </thead>\n",
       "  <tbody>\n",
       "    <tr>\n",
       "      <th>Machine 1</th>\n",
       "      <td>4</td>\n",
       "      <td>3</td>\n",
       "      <td>1</td>\n",
       "      <td>6</td>\n",
       "    </tr>\n",
       "    <tr>\n",
       "      <th>Machine 2</th>\n",
       "      <td>8</td>\n",
       "      <td>6</td>\n",
       "      <td>2</td>\n",
       "      <td>7</td>\n",
       "    </tr>\n",
       "    <tr>\n",
       "      <th>Machine 3</th>\n",
       "      <td>0</td>\n",
       "      <td>3</td>\n",
       "      <td>5</td>\n",
       "      <td>2</td>\n",
       "    </tr>\n",
       "    <tr>\n",
       "      <th>Machine 4</th>\n",
       "      <td>3</td>\n",
       "      <td>3</td>\n",
       "      <td>9</td>\n",
       "      <td>6</td>\n",
       "    </tr>\n",
       "  </tbody>\n",
       "</table>\n",
       "</div>"
      ],
      "text/plain": [
       "           Bottled Water ($m)  Bottled Tea ($m)  Juice ($m)  Milk ($m)\n",
       "Machine 1                   4                 3           1          6\n",
       "Machine 2                   8                 6           2          7\n",
       "Machine 3                   0                 3           5          2\n",
       "Machine 4                   3                 3           9          6"
      ]
     },
     "execution_count": 132,
     "metadata": {},
     "output_type": "execute_result"
    }
   ],
   "source": [
    "df"
   ]
  },
  {
   "cell_type": "markdown",
   "id": "01ced29e",
   "metadata": {},
   "source": [
    "Which suggests that:\n",
    "    \n",
    "    Machine 1 should produce only bottled tea at a total cost of $3,000,000/month. \n",
    "    \n",
    "    Machine 2 should produce only juice at a total cost of $2,000,000/month.\n",
    "    \n",
    "    Machine 3 should to produce only milk at a total cost of $2,000,000/month.\n",
    "    \n",
    "    Machine 4 should produce only bottled water at a total cost of $3,000,000/month."
   ]
  },
  {
   "cell_type": "markdown",
   "id": "e48dede3",
   "metadata": {},
   "source": [
    "To calculate the objective function (optimum solution), which will be the total cost of production for each month."
   ]
  },
  {
   "cell_type": "code",
   "execution_count": 34,
   "id": "a6a9ee38",
   "metadata": {},
   "outputs": [
    {
     "name": "stdout",
     "output_type": "stream",
     "text": [
      "The objective fuction is 10\n",
      "\n",
      " This means that if \n",
      " Machine 1 is assigned to produce only bottled tea, \n",
      " Machine 2 be assigned to produce only juice, \n",
      " Machine 3 is assigned to produce only milk, \n",
      " Machine 4 is assigned to produce only bottled water,\n",
      "\n",
      " then, the company will spend $10,000,000 on production every month.\n"
     ]
    }
   ],
   "source": [
    "objective_function = cost_matrix[row_ind, col_ind].sum()\n",
    "print (f'The objective fuction is {objective_function}')\n",
    "print (f'\\n This means that if \\n Machine 1 is assigned to produce only bottled tea, \\n Machine 2 be assigned to produce only juice, \\n Machine 3 is assigned to produce only milk, \\n Machine 4 is assigned to produce only bottled water,')\n",
    "print (f'\\n then, the company will spend $10,000,000 on production every month.')"
   ]
  },
  {
   "cell_type": "markdown",
   "id": "cd548013",
   "metadata": {},
   "source": [
    "$$\n",
    "Advantage\\>of\\>using\\>the\\>Hungarian\\>method\\>and\\>the\\>Scipy\\>module\n",
    "$$"
   ]
  },
  {
   "cell_type": "code",
   "execution_count": 35,
   "id": "d2138dad",
   "metadata": {},
   "outputs": [],
   "source": [
    "import random\n",
    "import calendar"
   ]
  },
  {
   "cell_type": "markdown",
   "id": "deeed016",
   "metadata": {},
   "source": [
    "#### Assuming that we want to assign these jobs manually without using the hungarian method or the scipy.optimize module.\n"
   ]
  },
  {
   "cell_type": "code",
   "execution_count": 138,
   "id": "1bab2a8a",
   "metadata": {},
   "outputs": [
    {
     "data": {
      "text/html": [
       "<div>\n",
       "<style scoped>\n",
       "    .dataframe tbody tr th:only-of-type {\n",
       "        vertical-align: middle;\n",
       "    }\n",
       "\n",
       "    .dataframe tbody tr th {\n",
       "        vertical-align: top;\n",
       "    }\n",
       "\n",
       "    .dataframe thead th {\n",
       "        text-align: right;\n",
       "    }\n",
       "</style>\n",
       "<table border=\"1\" class=\"dataframe\">\n",
       "  <thead>\n",
       "    <tr style=\"text-align: right;\">\n",
       "      <th></th>\n",
       "      <th>Bottled Water ($m)</th>\n",
       "      <th>Bottled Tea ($m)</th>\n",
       "      <th>Juice ($m)</th>\n",
       "      <th>Milk ($m)</th>\n",
       "    </tr>\n",
       "  </thead>\n",
       "  <tbody>\n",
       "    <tr>\n",
       "      <th>Machine 1</th>\n",
       "      <td>4</td>\n",
       "      <td>3</td>\n",
       "      <td>1</td>\n",
       "      <td>6</td>\n",
       "    </tr>\n",
       "    <tr>\n",
       "      <th>Machine 2</th>\n",
       "      <td>8</td>\n",
       "      <td>6</td>\n",
       "      <td>2</td>\n",
       "      <td>7</td>\n",
       "    </tr>\n",
       "    <tr>\n",
       "      <th>Machine 3</th>\n",
       "      <td>0</td>\n",
       "      <td>3</td>\n",
       "      <td>5</td>\n",
       "      <td>2</td>\n",
       "    </tr>\n",
       "    <tr>\n",
       "      <th>Machine 4</th>\n",
       "      <td>3</td>\n",
       "      <td>3</td>\n",
       "      <td>9</td>\n",
       "      <td>6</td>\n",
       "    </tr>\n",
       "  </tbody>\n",
       "</table>\n",
       "</div>"
      ],
      "text/plain": [
       "           Bottled Water ($m)  Bottled Tea ($m)  Juice ($m)  Milk ($m)\n",
       "Machine 1                   4                 3           1          6\n",
       "Machine 2                   8                 6           2          7\n",
       "Machine 3                   0                 3           5          2\n",
       "Machine 4                   3                 3           9          6"
      ]
     },
     "execution_count": 138,
     "metadata": {},
     "output_type": "execute_result"
    }
   ],
   "source": [
    "df"
   ]
  },
  {
   "cell_type": "code",
   "execution_count": 38,
   "id": "ef2aa7f1",
   "metadata": {},
   "outputs": [],
   "source": [
    "month = [ 'Jan', 'Feb', 'Mar', 'Apr', 'May', 'Jun', 'Jul', 'Aug', 'Sep', 'Oct', 'Nov','Dec']"
   ]
  },
  {
   "cell_type": "code",
   "execution_count": 39,
   "id": "c4e00f8d",
   "metadata": {},
   "outputs": [
    {
     "data": {
      "text/plain": [
       "[23, 10, 23, 12, 15, 13, 19, 16, 24, 22, 12, 22]"
      ]
     },
     "execution_count": 39,
     "metadata": {},
     "output_type": "execute_result"
    }
   ],
   "source": [
    "#This script will generate random samples for 1 year.\n",
    "\n",
    "dig = [cm2 for cm in cost_matrix for cm2 in cm]\n",
    "\n",
    "ran_cst = []\n",
    "for rc in range (12):\n",
    "    rs = random.sample(dig,4)\n",
    "    ran_cst.append(rs)\n",
    "    \n",
    "ran_cst\n",
    "ran_cost = []\n",
    "for rct in ran_cst:\n",
    "    summ = (sum(rct))\n",
    "    ran_cost.append(summ)\n",
    "ran_cost"
   ]
  },
  {
   "cell_type": "code",
   "execution_count": 40,
   "id": "f96e45ab",
   "metadata": {},
   "outputs": [
    {
     "data": {
      "text/plain": [
       "[4, 3, 1, 6, 8, 6, 2, 7, 0, 3, 5, 2, 3, 3, 9, 6]"
      ]
     },
     "execution_count": 40,
     "metadata": {},
     "output_type": "execute_result"
    }
   ],
   "source": [
    "dig"
   ]
  },
  {
   "cell_type": "code",
   "execution_count": 41,
   "id": "2b039142",
   "metadata": {},
   "outputs": [
    {
     "data": {
      "text/plain": [
       "[('Jan', 23),\n",
       " ('Feb', 10),\n",
       " ('Mar', 23),\n",
       " ('Apr', 12),\n",
       " ('May', 15),\n",
       " ('Jun', 13),\n",
       " ('Jul', 19),\n",
       " ('Aug', 16),\n",
       " ('Sep', 24),\n",
       " ('Oct', 22),\n",
       " ('Nov', 12),\n",
       " ('Dec', 22)]"
      ]
     },
     "execution_count": 41,
     "metadata": {},
     "output_type": "execute_result"
    }
   ],
   "source": [
    "prod_per_month = list(zip(month,ran_cost))\n",
    "prod_per_month"
   ]
  },
  {
   "cell_type": "code",
   "execution_count": 42,
   "id": "cf127477",
   "metadata": {},
   "outputs": [
    {
     "name": "stdout",
     "output_type": "stream",
     "text": [
      "\n",
      "From the random predictions above, it can be seen the company spends an average of $17583333.33 on production every month.\n"
     ]
    }
   ],
   "source": [
    "avg_cost_per_month = sum(ran_cost)/len(ran_cost)\n",
    "print (f'\\nFrom the random predictions above, it can be seen the company spends an average of ${(avg_cost_per_month*1000000).round(2)} on production every month.')"
   ]
  },
  {
   "cell_type": "code",
   "execution_count": 43,
   "id": "0b731891",
   "metadata": {},
   "outputs": [
    {
     "data": {
      "image/png": "[encoded data removed]",
      "text/plain": [
       "<Figure size 432x288 with 1 Axes>"
      ]
     },
     "metadata": {
      "needs_background": "light"
     },
     "output_type": "display_data"
    }
   ],
   "source": [
    "import matplotlib.pyplot as plt\n",
    "x = np.array(['Jan', 'Feb', 'Mar', 'Apr', 'May', 'Jun', 'Jul', 'Aug', 'Sep', 'Oct', 'Nov','Dec'])\n",
    "y = np.array(ran_cost)\n",
    "plt.title(\"AYO FARMS COST OF PRODUCTION FOR THE YEAR 2021\")\n",
    "plt.xlabel(\"Production Month\")\n",
    "plt.ylabel(\"Average cost of production per month ($m)\")\n",
    "plt.plot(x, y)\n",
    "plt.grid()\n",
    "plt.show()"
   ]
  },
  {
   "cell_type": "code",
   "execution_count": 44,
   "id": "17f04085",
   "metadata": {},
   "outputs": [
    {
     "name": "stdout",
     "output_type": "stream",
     "text": [
      "\n",
      "\n",
      "This shows that using Hungarian method and the scipy module, AYO FARMS will spend an avegare of $10 million monthly, as against $18.0 million.\n",
      "\n",
      "Which means that with this method, the company will be able to save $8.0 million monthly and $91.0 million yearly, therefore     reducing their cost of production by 43.0% over the year.\n"
     ]
    }
   ],
   "source": [
    "amount_saved = abs(avg_cost_per_month - 10)/abs(avg_cost_per_month) * 100\n",
    "amount_saved\n",
    "print (f'\\n\\nThis shows that using Hungarian method and the scipy module, AYO FARMS will spend an avegare of ${objective_function.round()} million monthly, as against ${avg_cost_per_month.round()} million.\\n\\nWhich means that with this method, the company will be able to save ${(avg_cost_per_month - objective_function).round()} million monthly and ${((avg_cost_per_month - objective_function)*12).round()} million yearly, therefore     reducing their cost of production by {amount_saved.round()}% over the year.')"
   ]
  },
  {
   "cell_type": "markdown",
   "id": "9cfd37ae",
   "metadata": {},
   "source": [
    "$$\n",
    " THANK-YOU \n",
    "$$"
   ]
  }
 ],
 "metadata": {
  "kernelspec": {
   "display_name": "Python 3 (ipykernel)",
   "language": "python",
   "name": "python3"
  },
  "language_info": {
   "codemirror_mode": {
    "name": "ipython",
    "version": 3
   },
   "file_extension": ".py",
   "mimetype": "text/x-python",
   "name": "python",
   "nbconvert_exporter": "python",
   "pygments_lexer": "ipython3",
   "version": "3.9.12"
  }
 },
 "nbformat": 4,
 "nbformat_minor": 5
}
